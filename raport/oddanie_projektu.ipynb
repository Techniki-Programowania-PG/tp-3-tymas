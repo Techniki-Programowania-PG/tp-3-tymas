{
 "cells": [
  {
   "cell_type": "markdown",
   "metadata": {},
   "source": [
    "# TECHNIKI PROGRAMOWANIA - projekt 3\n",
    "### Tymoteusz Stanczewski 193986\n",
    "\n",
    "Wykorzystane biblioteki:\n",
    "- matplotplusplus (c++)\n",
    "- pybind11 (python)"
   ]
  },
  {
   "cell_type": "markdown",
   "metadata": {},
   "source": [
    "# Wizualizacja wykresów 1D\n",
    "Przykład obrazujący zaimplementowaną funkcjonalnośc rysowania wykresów 1 wymiarowych"
   ]
  },
  {
   "cell_type": "code",
   "execution_count": null,
   "metadata": {},
   "outputs": [],
   "source": [
    "import scikit_build_example as sbe\n",
    "import numpy as np\n",
    "\n",
    "x = [1,2,3,5,7,10]\n",
    "y=[4,6,1,6,8, 22]\n",
    "\n",
    "sbe.plot(x, y)\n",
    "# plot_1.png"
   ]
  },
  {
   "cell_type": "markdown",
   "metadata": {},
   "source": [
    "![Plot_1](plot_1.png)"
   ]
  },
  {
   "cell_type": "markdown",
   "metadata": {},
   "source": [
    "# DFT\n",
    "W celu sprawdzenia poprawności implementacji DFT wykorzystamy kilka przykładowych przebiegów:\n",
    "- sin(f*t) i sin(10*f*t)\n",
    "- ..."
   ]
  },
  {
   "cell_type": "markdown",
   "metadata": {},
   "source": [
    "## sin(ft)"
   ]
  },
  {
   "cell_type": "code",
   "execution_count": null,
   "metadata": {},
   "outputs": [],
   "source": [
    "f = 10\n",
    "N = 1000\n",
    "x = np.linspace(0, 2 * np.pi, N)\n",
    "\n",
    "y=np.sin(f*x)\n",
    "Y = np.abs(sbe.DFT(y))**2\n",
    "\n",
    "sbe.plot(x, y)\n",
    "# zapisane jako sin_fx.png\n",
    "sbe.plot(np.arange(N), Y)\n",
    "# zapisane jako sin_fx_DFT.png"
   ]
  },
  {
   "cell_type": "markdown",
   "metadata": {},
   "source": [
    "![sin fx](sin_fx.png)\n",
    "![sin_fx_DFT](sin_fx_DFT.png)"
   ]
  },
  {
   "cell_type": "markdown",
   "metadata": {},
   "source": [
    "## sin(10 * ft)"
   ]
  },
  {
   "cell_type": "code",
   "execution_count": null,
   "metadata": {},
   "outputs": [],
   "source": [
    "y=np.sin(10*f*x)\n",
    "Y = np.abs(sbe.DFT(y))**2\n",
    "\n",
    "sbe.plot(x, y)\n",
    "# zapisane jako sin_10fx.png\n",
    "sbe.plot(np.arange(N), Y)\n",
    "# zapisane jako sin_10fx_DFT.png"
   ]
  },
  {
   "cell_type": "markdown",
   "metadata": {},
   "source": [
    "![sin 10fx](sin_10fx.png)\n",
    "![sin_10fx_DFT](sin_10fx_DFT.png)"
   ]
  },
  {
   "cell_type": "markdown",
   "metadata": {},
   "source": [
    "# IFT\n",
    "W celu sprawdzenia poprawności implementacji IFT wykorzystamy funkcje DFT\n"
   ]
  },
  {
   "cell_type": "code",
   "execution_count": null,
   "metadata": {},
   "outputs": [],
   "source": [
    "f = 15\n",
    "N = 1000\n",
    "x = np.linspace(0, 2 * np.pi, N)\n",
    "\n",
    "y=np.sin(f*x)\n",
    "Y = np.abs(sbe.DFT(y))**2\n",
    "\n",
    "sbe.plot(x, y)\n",
    "# zapisane jako sin_fx.png\n",
    "y = sbe.ITF(Y)\n",
    "sbe.plot(x,y)"
   ]
  },
  {
   "cell_type": "markdown",
   "metadata": {},
   "source": [
    "![sin_10fx_DFT](sin_15fx.png)\n",
    "![sin_10fx_DFT](sin_15fx_IFT(DFT).png)"
   ]
  },
  {
   "cell_type": "markdown",
   "metadata": {},
   "source": [
    "# Sygnaly:\n",
    "sinus\n",
    "cosinus\n",
    "piloksztaltny\n",
    "kwadratowy"
   ]
  },
  {
   "cell_type": "code",
   "execution_count": null,
   "metadata": {},
   "outputs": [],
   "source": [
    "(base) tymas@Xubuntu:~$ conda activate env01\n",
    "(env01) tymas@Xubuntu:~$ python\n",
    "Python 3.13.2 | packaged by Anaconda, Inc. | (main, Feb  6 2025, 18:56:02) [GCC 11.2.0] on linux\n",
    "Type \"help\", \"copyright\", \"credits\" or \"license\" for more information.\n",
    ">>> import scikit_build_example\n",
    ">>> import numpy as np\n",
    ">>> x = np.linspace(0, 8, 1000)\n",
    ">>> import sickit_build_example as sbe\n",
    "Traceback (most recent call last):\n",
    "  File \"<python-input-3>\", line 1, in <module>\n",
    "    import sickit_build_example as sbe\n",
    "ModuleNotFoundError: No module named 'sickit_build_example'\n",
    ">>> import scikit_build_example as sbe\n",
    ">>> y = sbe.plot_sin(2,0,8,1000)\n",
    "Press ENTER to continue...\n",
    ">>> y = sbe.plot_cos(2,0,8,1000)\n",
    "Press ENTER to continue...\n",
    ">>> y = sbe.plot_sawtooth((2,0,8,1000)\n",
    "... \n",
    "... \n",
    "... sbe.plot(x,y)\n",
    "... \n",
    "  File \"<python-input-7>\", line 1\n",
    "    y = sbe.plot_sawtooth((2,0,8,1000)\n",
    "                         ^\n",
    "SyntaxError: '(' was never closed\n",
    ">>> y = sbe.plot_sawtooth(2,0,8,1000)\n",
    "Press ENTER to continue...\n",
    ">>> y = sbe.plot_rec(2, 50, 0, 8, 1000)\n",
    "Press ENTER to continue...\n",
    ">>> x = [1,3,4,5,7,868,3,6,3,2,1,]\n",
    ">>> y=sbe.filtration(x,4)\n",
    ">>> print(y)\n",
    "[0.0, 0.0, 4.0, 5.0, 7.0, 868.0, 0.0, 6.0, 0.0, 0.0, 0.0]\n",
    ">>> \n",
    ">>> image = [\n",
    "...     [1, 2, 3, 4, 5],\n",
    "...     [5, 6, 7, 8, 9],\n",
    "...     [9, 10, 11, 12, 13],\n",
    "...     [13, 14, 15, 16, 17],\n",
    "...     [17, 18, 19, 20, 21],\n",
    "... ]\n",
    ">>> kernel = [\n",
    "...     [1/9, 1/9, 1/9],\n",
    "...     [1/9, 1/9, 1/9],\n",
    "...     [1/9, 1/9, 1/9]\n",
    "... ]\n",
    "... \n",
    ">>> result = sbe.filtration(image, kernel)\n",
    "12345\n",
    "56789\n",
    "910111213\n",
    "1314151617\n",
    "1718192021\n",
    ">>> kernel = [\n",
    "...     [1/9, 1/9, 1/9],\n",
    "...     [1/9, 9, 1/9],\n",
    "...     [1/9, 1/9, 1/9]\n",
    "... ]\n",
    ">>> \n",
    "KeyboardInterrupt\n",
    ">>> result = sbe.filtration(image, kernel)\n",
    "... \n",
    "12345\n",
    "559.333369.222279.11119\n",
    "998.8889108.778118.66713\n",
    "13138.444148.333158.22217\n",
    "1718192021\n",
    ">>> print result\n",
    "  File \"<python-input-19>\", line 1\n",
    "    print result\n",
    "    ^^^^^^^^^^^^\n",
    "SyntaxError: Missing parentheses in call to 'print'. Did you mean print(...)?\n",
    ">>> print(result)\n",
    "[[1.0, 2.0, 3.0, 4.0, 5.0], [5.0, 59.333333333333336, 69.22222222222223, 79.11111111111111, 9.0], [9.0, 98.8888888888889, 108.77777777777777, 118.66666666666666, 13.0], [13.0, 138.44444444444443, 148.33333333333334, 158.22222222222223, 17.0], [17.0, 18.0, 19.0, 20.0, 21.0]]\n",
    ">>> \n"
   ]
  }
 ],
 "metadata": {
  "kernelspec": {
   "display_name": "phd",
   "language": "python",
   "name": "python3"
  },
  "language_info": {
   "codemirror_mode": {
    "name": "ipython",
    "version": 3
   },
   "file_extension": ".py",
   "mimetype": "text/x-python",
   "name": "python",
   "nbconvert_exporter": "python",
   "pygments_lexer": "ipython3",
   "version": "3.11.7"
  }
 },
 "nbformat": 4,
 "nbformat_minor": 2
}
