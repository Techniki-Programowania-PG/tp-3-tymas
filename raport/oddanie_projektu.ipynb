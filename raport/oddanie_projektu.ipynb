{
 "cells": [
  {
   "cell_type": "markdown",
   "metadata": {},
   "source": [
    "# TECHNIKI PROGRAMOWANIA - projekt 3\n",
    "### Tymoteusz Stanczewski 193986\n",
    "\n",
    "Wykorzystane biblioteki:\n",
    "- matplotplusplus (c++)\n",
    "- pybind11 (python)"
   ]
  },
  {
   "cell_type": "markdown",
   "metadata": {},
   "source": [
    "# Wizualizacja wykresów 1D\n",
    "Przykład obrazujący zaimplementowaną funkcjonalnośc rysowania wykresów 1 wymiarowych"
   ]
  },
  {
   "cell_type": "code",
   "execution_count": null,
   "metadata": {},
   "outputs": [],
   "source": [
    "import scikit_build_example as sbe\n",
    "import numpy as np\n",
    "\n",
    "x = [1,2,3,5,7,10]\n",
    "y=[4,6,1,6,8, 22]\n",
    "\n",
    "sbe.plot(x, y)\n",
    "# plot_1.png"
   ]
  },
  {
   "cell_type": "markdown",
   "metadata": {},
   "source": [
    "![Plot_1](plot_1.png)"
   ]
  },
  {
   "cell_type": "markdown",
   "metadata": {},
   "source": [
    "# DFT\n",
    "W celu sprawdzenia poprawności implementacji DFT wykorzystamy kilka przykładowych przebiegów:\n",
    "- sin(f*t) i sin(10*f*t)\n",
    "- ..."
   ]
  },
  {
   "cell_type": "markdown",
   "metadata": {},
   "source": [
    "## sin(ft)"
   ]
  },
  {
   "cell_type": "code",
   "execution_count": null,
   "metadata": {},
   "outputs": [],
   "source": [
    "f = 10\n",
    "N = 1000\n",
    "x = np.linspace(0, 2 * np.pi, N)\n",
    "\n",
    "y=np.sin(f*x)\n",
    "Y = np.abs(sbe.DFT(y))**2\n",
    "\n",
    "sbe.plot(x, y)\n",
    "# zapisane jako sin_fx.png\n",
    "sbe.plot(np.arange(N), Y)\n",
    "# zapisane jako sin_fx_DFT.png"
   ]
  },
  {
   "cell_type": "markdown",
   "metadata": {},
   "source": [
    "![sin fx](sin_fx.png)\n",
    "![sin_fx_DFT](sin_fx_DFT.png)"
   ]
  },
  {
   "cell_type": "markdown",
   "metadata": {},
   "source": [
    "## sin(10 * ft)"
   ]
  },
  {
   "cell_type": "code",
   "execution_count": null,
   "metadata": {},
   "outputs": [],
   "source": [
    "y=np.sin(10*f*x)\n",
    "Y = np.abs(sbe.DFT(y))**2\n",
    "\n",
    "sbe.plot(x, y)\n",
    "# zapisane jako sin_10fx.png\n",
    "sbe.plot(np.arange(N), Y)\n",
    "# zapisane jako sin_10fx_DFT.png"
   ]
  },
  {
   "cell_type": "markdown",
   "metadata": {},
   "source": [
    "![sin 10fx](sin_10fx.png)\n",
    "![sin_10fx_DFT](sin_10fx_DFT.png)"
   ]
  },
  {
   "cell_type": "markdown",
   "metadata": {},
   "source": [
    "# IFT\n",
    "W celu sprawdzenia poprawności implementacji IFT wykorzystamy funkcje DFT\n"
   ]
  },
  {
   "cell_type": "code",
   "execution_count": null,
   "metadata": {},
   "outputs": [],
   "source": [
    "f = 15\n",
    "N = 1000\n",
    "x = np.linspace(0, 2 * np.pi, N)\n",
    "\n",
    "y=np.sin(f*x)\n",
    "Y = np.abs(sbe.DFT(y))**2\n",
    "\n",
    "sbe.plot(x, y)\n",
    "# zapisane jako sin_fx.png\n",
    "y = sbe.ITF(Y)\n",
    "sbe.plot(x,y)"
   ]
  },
  {
   "cell_type": "markdown",
   "metadata": {},
   "source": [
    "![sin_10fx_DFT](sin_15fx.png)\n",
    "![sin_10fx_DFT](sin_15fx_IFT(DFT).png)"
   ]
  },
  {
   "cell_type": "markdown",
   "metadata": {},
   "source": [
    "# Filtracja 1D i 2D"
   ]
  }
 ],
 "metadata": {
  "kernelspec": {
   "display_name": "phd",
   "language": "python",
   "name": "python3"
  },
  "language_info": {
   "codemirror_mode": {
    "name": "ipython",
    "version": 3
   },
   "file_extension": ".py",
   "mimetype": "text/x-python",
   "name": "python",
   "nbconvert_exporter": "python",
   "pygments_lexer": "ipython3",
   "version": "3.11.7"
  }
 },
 "nbformat": 4,
 "nbformat_minor": 2
}
