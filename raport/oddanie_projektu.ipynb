{
 "cells": [
  {
   "cell_type": "markdown",
   "metadata": {},
   "source": [
    "# TECHNIKI PROGRAMOWANIA - projekt 3\n",
    "### Tymoteusz Stanczewski 193986\n",
    "\n",
    "Wykorzystane biblioteki:\n",
    "- matplotplusplus (c++)\n",
    "- pybind11 (python)"
   ]
  },
  {
   "cell_type": "markdown",
   "metadata": {},
   "source": [
    "# Wizualizacja wykresów 1D\n",
    "Przykład obrazujący zaimplementowaną funkcjonalnośc rysowania wykresów 1 wymiarowych"
   ]
  },
  {
   "cell_type": "code",
   "execution_count": null,
   "metadata": {},
   "outputs": [],
   "source": [
    "import scikit_build_example as sbe\n",
    "import numpy as np\n",
    "\n",
    "x = [1,2,3,5,7,10]\n",
    "y=[4,6,1,6,8, 22]\n",
    "\n",
    "sbe.plot(x, y)\n",
    "# plot_1.png"
   ]
  },
  {
   "cell_type": "markdown",
   "metadata": {},
   "source": [
    "![Plot_1](plot_1.png)"
   ]
  },
  {
   "cell_type": "markdown",
   "metadata": {},
   "source": [
    "# DFT\n",
    "W celu sprawdzenia poprawności implementacji DFT wykorzystamy kilka przykładowych przebiegów:\n",
    "- sin(f*t) i sin(10*f*t)\n",
    "- ..."
   ]
  },
  {
   "cell_type": "markdown",
   "metadata": {},
   "source": [
    "## sin(ft)"
   ]
  },
  {
   "cell_type": "code",
   "execution_count": null,
   "metadata": {},
   "outputs": [],
   "source": [
    "f = 10\n",
    "N = 1000\n",
    "x = np.linspace(0, 2 * np.pi, N)\n",
    "\n",
    "y=np.sin(f*x)\n",
    "Y = np.abs(sbe.DFT(y))**2\n",
    "\n",
    "sbe.plot(x, y)\n",
    "# zapisane jako sin_fx.png\n",
    "sbe.plot(np.arange(N), Y)\n",
    "# zapisane jako sin_fx_DFT.png"
   ]
  },
  {
   "cell_type": "markdown",
   "metadata": {},
   "source": [
    "![sin fx](sin_fx.png)\n",
    "![sin_fx_DFT](sin_fx_DFT.png)"
   ]
  },
  {
   "cell_type": "markdown",
   "metadata": {},
   "source": [
    "## sin(10 * ft)"
   ]
  },
  {
   "cell_type": "code",
   "execution_count": null,
   "metadata": {},
   "outputs": [],
   "source": [
    "y=np.sin(10*f*x)\n",
    "Y = np.abs(sbe.DFT(y))**2\n",
    "\n",
    "sbe.plot(x, y)\n",
    "# zapisane jako sin_10fx.png\n",
    "sbe.plot(np.arange(N), Y)\n",
    "# zapisane jako sin_10fx_DFT.png"
   ]
  },
  {
   "cell_type": "markdown",
   "metadata": {},
   "source": [
    "![sin 10fx](sin_10fx.png)\n",
    "![sin_10fx_DFT](sin_10fx_DFT.png)"
   ]
  },
  {
   "cell_type": "markdown",
   "metadata": {},
   "source": [
    "# IFT\n",
    "W celu sprawdzenia poprawności implementacji IFT wykorzystamy funkcje DFT\n"
   ]
  },
  {
   "cell_type": "code",
   "execution_count": null,
   "metadata": {},
   "outputs": [],
   "source": [
    "f = 15\n",
    "N = 1000\n",
    "x = np.linspace(0, 2 * np.pi, N)\n",
    "\n",
    "y=np.sin(f*x)\n",
    "Y = np.abs(sbe.DFT(y))**2\n",
    "\n",
    "sbe.plot(x, y)\n",
    "# zapisane jako sin_fx.png\n",
    "y = sbe.ITF(Y)\n",
    "sbe.plot(x,y)"
   ]
  },
  {
   "cell_type": "markdown",
   "metadata": {},
   "source": [
    "![sin_10fx_DFT](sin_15fx.png)\n",
    "![sin_15fx_IFT(DFT)](sin_15fx_IFT(DFT).png)"
   ]
  },
  {
   "cell_type": "markdown",
   "metadata": {},
   "source": [
    "# Sygnaly:\n",
    "sinus\n",
    "cosinus\n",
    "piloksztaltny\n",
    "kwadratowy"
   ]
  },
  {
   "cell_type": "markdown",
   "metadata": {},
   "source": [
    "## Sinus"
   ]
  },
  {
   "cell_type": "code",
   "execution_count": null,
   "metadata": {},
   "outputs": [],
   "source": [
    "frequency = 2\n",
    "t_start = 0\n",
    "t_stop = 8\n",
    "n_samples = 1000\n",
    "x = np.linspace(0, 8, 1000)\n",
    "y = sbe.plot_sin(frequency, t_start, t_stop, n_samples)\n",
    "SBE.plot(x, y)\n",
    "# zapisane jako sin.png"
   ]
  },
  {
   "cell_type": "markdown",
   "metadata": {},
   "source": [
    "![sin](sin.png)"
   ]
  },
  {
   "cell_type": "markdown",
   "metadata": {},
   "source": [
    "## Cosinus"
   ]
  },
  {
   "cell_type": "code",
   "execution_count": null,
   "metadata": {},
   "outputs": [],
   "source": [
    "x = np.linspace(0, 8, 1000)\n",
    "y = sbe.plot_cos(frequency, t_start, t_stop, n_samples)\n",
    "sbe.plot(x, y)\n",
    "# zapisane jako cos.png"
   ]
  },
  {
   "cell_type": "markdown",
   "metadata": {},
   "source": [
    "![cos](cos.png)"
   ]
  },
  {
   "cell_type": "code",
   "execution_count": null,
   "metadata": {},
   "outputs": [],
   "source": [
    "## Sygnał piłokształtny"
   ]
  },
  {
   "cell_type": "code",
   "execution_count": null,
   "metadata": {},
   "outputs": [],
   "source": [
    "y = sbe.plot_sawtooth(frequency, t_start, t_stop, n_samples)\n",
    "sbe.plot(x, y)\n",
    "# zapisane jako sawtooth.png"
   ]
  },
  {
   "cell_type": "markdown",
   "metadata": {},
   "source": [
    "![sawtooth](sawtooth.png)"
   ]
  },
  {
   "cell_type": "markdown",
   "metadata": {},
   "source": [
    "## Sygnał prostokątny"
   ]
  },
  {
   "cell_type": "code",
   "execution_count": null,
   "metadata": {},
   "outputs": [],
   "source": [
    "duty_cycle = 50\n",
    "y = sbe.plot_rec(frequency, duty_cycle, t_start, t_stop, n_samples)\n",
    "sbe.plot(x, y)\n",
    "# zapisane jako rec.png"
   ]
  },
  {
   "cell_type": "markdown",
   "metadata": {},
   "source": [
    "![rec](rec.png)"
   ]
  },
  {
   "cell_type": "markdown",
   "metadata": {},
   "source": [
    "# Filtracja 1D oraz 2D"
   ]
  },
  {
   "cell_type": "markdown",
   "metadata": {},
   "source": [
    "### Filtracja 1D \n",
    "zostanie przedstawiona na przykładzie filtracji listy jednowymiarowej"
   ]
  },
  {
   "cell_type": "code",
   "execution_count": null,
   "metadata": {},
   "outputs": [],
   "source": [
    "x = [1, 3, 4, 5, 7, 868, 3, 6, 3, 2, 1]\n",
    "y=sbe.filtration(x,4)\n",
    "print(y)\n",
    "# wyjście:\n",
    "[0.0, 0.0, 4.0, 5.0, 7.0, 868.0, 0.0, 6.0, 0.0, 0.0, 0.0]"
   ]
  },
  {
   "cell_type": "markdown",
   "metadata": {},
   "source": [
    "### Filtracja 2D\n",
    "zostanie przedstawiona na przykładzie filtracji listy dwuwymiarowej"
   ]
  },
  {
   "cell_type": "code",
   "execution_count": null,
   "metadata": {},
   "outputs": [],
   "source": [
    "matrix2D = [[1, 2, 3, 4, 5],\n",
    "         [5, 6, 7, 8, 9],\n",
    "         [9, 10, 11, 12, 13],\n",
    "         [13, 14, 15, 16, 17],\n",
    "         [17, 18, 19, 20, 21],]\n",
    "mask = [[1/9, 1/9, 1/9],\n",
    "         [1/9, 9, 1/9],\n",
    "         [1/9, 1/9, 1/9]]\n",
    "result = sbe.filtration(matrix2D, mask)\n",
    "\n",
    "print(result)\n",
    "# wyjście:\n",
    "[[1.0, 2.0, 3.0, 4.0, 5.0], \n",
    " [5.0, 59.333333333333336, 69.22222222222223, 79.11111111111111, 9.0], \n",
    " [9.0, 98.8888888888889, 108.77777777777777, 118.66666666666666, 13.0],\n",
    " [13.0, 138.44444444444443, 148.33333333333334, 158.22222222222223, 17.0], \n",
    " [17.0, 18.0, 19.0, 20.0, 21.0]] "
   ]
  }
 ],
 "metadata": {
  "kernelspec": {
   "display_name": "Python 3 (ipykernel)",
   "language": "python",
   "name": "python3"
  },
  "language_info": {
   "codemirror_mode": {
    "name": "ipython",
    "version": 3
   },
   "file_extension": ".py",
   "mimetype": "text/x-python",
   "name": "python",
   "nbconvert_exporter": "python",
   "pygments_lexer": "ipython3",
   "version": "3.13.3"
  }
 },
 "nbformat": 4,
 "nbformat_minor": 4
}
